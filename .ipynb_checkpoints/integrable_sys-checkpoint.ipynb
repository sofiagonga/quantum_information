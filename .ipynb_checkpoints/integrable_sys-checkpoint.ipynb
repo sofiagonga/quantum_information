{
 "cells": [
  {
   "cell_type": "markdown",
   "id": "72143399",
   "metadata": {},
   "source": [
    "# Quantum Information and Holography: integrable vs scrambled systems"
   ]
  },
  {
   "cell_type": "code",
   "execution_count": 1,
   "id": "a5070b1c",
   "metadata": {},
   "outputs": [],
   "source": [
    "import numpy as np\n",
    "import matplotlib.pyplot as plt\n",
    "import functions as ps1f\n",
    "import numpy.linalg as la"
   ]
  },
  {
   "cell_type": "markdown",
   "id": "49a1de19",
   "metadata": {},
   "source": [
    "Define integrable and scrambled hamiltonians."
   ]
  },
  {
   "cell_type": "code",
   "execution_count": 2,
   "id": "debae386",
   "metadata": {},
   "outputs": [],
   "source": [
    "def Hi(n_qubits):\n",
    "    Hi = -ps1f.ZZ(n_qubits) - ps1f.X(n_qubits)\n",
    "    return Hi\n",
    "\n",
    "def Hs(n_qubits):\n",
    "    Hs = -ps1f.ZZ(n_qubits) + 1.05*ps1f.X(n_qubits) - 0.5*ps1f.Z(n_qubits)\n",
    "    return Hs\n",
    "\n",
    "#Hamiltonians for part 4\n",
    "def H3(n_qubits):\n",
    "    H3 = -ps1f.ZZ(n_qubits) + 0.55*ps1f.X(n_qubits)\n",
    "    return H3\n",
    "\n",
    "def H4(n_qubits):\n",
    "    H4 = -ps1f.ZZ(n_qubits) - ps1f.X(n_qubits) - 0.5*ps1f.Z(n_qubits)\n",
    "    return H4"
   ]
  },
  {
   "cell_type": "markdown",
   "id": "63359c4b",
   "metadata": {},
   "source": [
    "## Measure 1: Out-Of-Time-Ordered Correlator (OTOC)"
   ]
  },
  {
   "cell_type": "markdown",
   "id": "6e97a45f",
   "metadata": {},
   "source": [
    "Quantum OTOCs can be constructed as analogs of the classical Lyapunov exponents that measure the instability of classical trajectories arising from perturbations in the initial conditions [Zhang et al]. OTOC is a measure of scrambling in the system and thus becoming a measure of quantum chaos. The OTOC diagnoses the spread of quantum information by measuring how quickly two commuting operators fail to commute."
   ]
  },
  {
   "cell_type": "code",
   "execution_count": 3,
   "id": "9451c898",
   "metadata": {},
   "outputs": [],
   "source": [
    "def get_U(t, e, v):\n",
    "    \"\"\"\n",
    "    Inputs: t, time to evolve\n",
    "            e, a 1d array containing eigenvalues of H\n",
    "            v, a matrix whose columns are the corresponding eigenvectors\n",
    "    Output: exp(-i H t)\n",
    "    \"\"\"\n",
    "    #if H is diag({eigenvalues}), its exponential will be a diagonal matrix\n",
    "    #such that its diagonal entries are exp(eigenvalue)\n",
    "    diagonal_matrix = np.diag([np.exp(-1j*eigenvalue*t) for eigenvalue in e])\n",
    "    #change basis using singularity matrix v\n",
    "    U = la.multi_dot([v,diagonal_matrix, la.inv(v)])\n",
    "    return U"
   ]
  },
  {
   "cell_type": "code",
   "execution_count": 4,
   "id": "387d6046",
   "metadata": {},
   "outputs": [],
   "source": [
    "def OTOC(t, e, v, site2, site1=0, op = ps1f.Sz):\n",
    "    \"\"\"\n",
    "    Input: evolution time t, eigenpairs (e,v) of H, \n",
    "        two lattice sites, and a single-qubit operator\n",
    "    Output: the OTOC\n",
    "     < op(t)_site1 @ op(0)_site2 @ op(t)_site1 @ op(0)_site2 >\n",
    "    \"\"\"\n",
    "    n = int(np.log2(len(e)))\n",
    "\n",
    "    U = get_U(t,e,v)\n",
    "    \n",
    "    site1_oplist = [ps1f.Id]*site1 + [op] + [ps1f.Id]*(n-site1-1)\n",
    "    site1_op = ps1f.kron_list(site1_oplist)\n",
    "    site2_oplist = [ps1f.Id]*site2 + [op] + [ps1f.Id]*(n-site2-1)\n",
    "    site2_op = ps1f.kron_list(site2_oplist)\n",
    "    \n",
    "    U_dagger = np.conjugate(U.T)\n",
    "    dim = 2**n\n",
    "    OTOC = np.trace(la.multi_dot([U_dagger, site1_op, U, site2_op, U_dagger, site1_op, U, site2_op]))/dim\n",
    "    \n",
    "    return OTOC"
   ]
  },
  {
   "cell_type": "code",
   "execution_count": 5,
   "id": "416b19de",
   "metadata": {},
   "outputs": [],
   "source": [
    "def plot_OTOC_vs_t(H, t0, sys_type, t_steps = 101):\n",
    "    #number of spins\n",
    "    n = int(np.log2(H.shape[0]))\n",
    "    \n",
    "    #solve Hamiltonian\n",
    "    e,v = la.eigh(H)\n",
    "    \n",
    "    ts = np.linspace(0,t0,t_steps)\n",
    "    OTOCs = np.zeros( (n, len(ts)), dtype = complex )\n",
    "    \n",
    "    for i in range(n):\n",
    "        for t_idx, t in enumerate(ts):\n",
    "            OTOCs[i, t_idx] = OTOC(t,e,v,i)\n",
    "            \n",
    "    #take real part, imaginary should be small\n",
    "    OTOCs = np.real_if_close(OTOCs)\n",
    "    \n",
    "    title = 'OTOC measure for spins in chain - ' + sys_type \n",
    "    plt.title(title)\n",
    "    for i in range(n):\n",
    "        plt.plot(ts, OTOCs[i], label='spin'+str(i))\n",
    "    plt.xlabel(r'$t$')\n",
    "    plt.ylabel('OTOC')\n",
    "    plt.legend(loc = 'upper right')\n",
    "    plt.plot()"
   ]
  },
  {
   "cell_type": "markdown",
   "id": "3729eaf4",
   "metadata": {},
   "source": [
    "Define system and metric parameters"
   ]
  },
  {
   "cell_type": "code",
   "execution_count": 6,
   "id": "b9b709aa",
   "metadata": {},
   "outputs": [],
   "source": [
    "n_qubits = 8\n",
    "t0 = 20\n",
    "t_steps = 200 #t in range 0 -> 20 with step size 0.1 gives 200 timesteps"
   ]
  },
  {
   "cell_type": "markdown",
   "id": "445dcb3f",
   "metadata": {},
   "source": [
    "Plot OTOC comparison:"
   ]
  },
  {
   "cell_type": "code",
   "execution_count": null,
   "id": "36e61be7",
   "metadata": {},
   "outputs": [],
   "source": [
    "plot_OTOC_vs_t(Hi(n_qubits), t0, sys_type = 'integrable system', t_steps = t_steps);"
   ]
  },
  {
   "cell_type": "code",
   "execution_count": null,
   "id": "0a9b6075",
   "metadata": {},
   "outputs": [],
   "source": [
    "plot_OTOC_vs_t(Hs(n_qubits), t0, sys_type = 'scrambled system', t_steps = t_steps);"
   ]
  },
  {
   "cell_type": "markdown",
   "id": "3e4f5705",
   "metadata": {},
   "source": [
    "**Results**: for the scrambled system the OTOC decays with time. This is because the system becomes entangled, which is not the case for the integrable system."
   ]
  },
  {
   "cell_type": "markdown",
   "id": "3a567941",
   "metadata": {},
   "source": [
    "## Measure 2: Operator Weight"
   ]
  },
  {
   "cell_type": "markdown",
   "id": "35f32a9e",
   "metadata": {},
   "source": [
    "Measure of operator spreading. We will opt for the first method for this problem."
   ]
  },
  {
   "cell_type": "code",
   "execution_count": null,
   "id": "bb0e4da9",
   "metadata": {},
   "outputs": [],
   "source": [
    "def Z0_weight_vs_t_v1(t, e, v):\n",
    "    #formulas derived separatedly\n",
    "    \n",
    "    n = int(np.log2(len(e)))\n",
    "    dim = 2**n\n",
    "    \n",
    "    U = get_U(t,e,v)\n",
    "    U_dagger = np.conjugate(U.T)\n",
    "    Z0 = ps1f.kron_list( [ps1f.Sz] + [ps1f.Id]*(n-1) )\n",
    "    Z0t = U_dagger.dot(Z0.dot(U))\n",
    "    \n",
    "    one_site_Pauli_ops = [ps1f.Id, ps1f.Sz, ps1f.Sx, ps1f.Sy]\n",
    "    operator_inds = [ [ (elt//(4**j)) % 4 for j in range(n) ][::-1] for elt in range(4**n) ]\n",
    "    Pauli_ops = np.array([ [one_site_Pauli_ops[ind] for ind in inds] for inds in operator_inds ])\n",
    "    \n",
    "    #list of weights :number of sites where the local Pauli is X, Y , or Z, rather than Id\n",
    "    weights = np.sum(np.trace(Pauli_ops,axis1=2,axis2=3) == 0,axis=1)\n",
    "    \n",
    "    #list of coefficients: given by Tr[OP]/dim as per derivation\n",
    "    operators_dot_Z0t = np.array([ps1f.kron_list(pauli_op).dot(Z0t) for pauli_op in Pauli_ops])\n",
    "    coeffs = np.trace(operators_dot_Z0t,axis1=1,axis2=2) / dim\n",
    "    #print(np.sum(abs(coeffs)*abs(coeffs))) #gives us ~1 as derived\n",
    "    \n",
    "    #weight for each basis state\n",
    "    weight = np.sum(np.abs(coeffs)**2 * weights)\n",
    "    \n",
    "    return weight"
   ]
  },
  {
   "cell_type": "code",
   "execution_count": null,
   "id": "32362439",
   "metadata": {},
   "outputs": [],
   "source": [
    "def plot_Z0_weight_vs_t(H, t0, sys_type, t_steps = 101):\n",
    "    \n",
    "    e,v = np.linalg.eigh(H)\n",
    "    \n",
    "    ts = np.linspace(0,t0,t_steps)\n",
    "    Z0_weights = np.zeros(ts.shape)\n",
    "    for t_idx, t in enumerate(ts):\n",
    "        Z0_weights[t_idx] = Z0_weight_vs_t_v1(t, e, v)\n",
    "    \n",
    "    title = 'Operator weight evolution - ' + sys_type \n",
    "    plt.title(title)\n",
    "    plt.plot(ts, Z0_weights)\n",
    "    plt.xlabel(r'$t$')\n",
    "    plt.ylabel(r'$Z_0(t)$ weight')\n",
    "    plt.plot()"
   ]
  },
  {
   "cell_type": "markdown",
   "id": "fbcf0bc4",
   "metadata": {},
   "source": [
    "Define system and metric parameters:"
   ]
  },
  {
   "cell_type": "code",
   "execution_count": null,
   "id": "4cff736d",
   "metadata": {},
   "outputs": [],
   "source": [
    "n_qubits = 6\n",
    "t0 = 30\n",
    "t_steps = 600"
   ]
  },
  {
   "cell_type": "markdown",
   "id": "9029fd8b",
   "metadata": {},
   "source": [
    "Plot weight evolution comparison:"
   ]
  },
  {
   "cell_type": "code",
   "execution_count": null,
   "id": "9cf64bdc",
   "metadata": {},
   "outputs": [],
   "source": [
    "plot_Z0_weight_vs_t(Hi(n_qubits), t0, 'integrable system', t_steps);"
   ]
  },
  {
   "cell_type": "code",
   "execution_count": null,
   "id": "5d486075",
   "metadata": {},
   "outputs": [],
   "source": [
    "plot_Z0_weight_vs_t(Hs(n_qubits), t0, 'scrambled system', t_steps);"
   ]
  },
  {
   "cell_type": "markdown",
   "id": "0ea148f6",
   "metadata": {},
   "source": [
    "For the scrambling case, we see the operator spreading."
   ]
  },
  {
   "cell_type": "markdown",
   "id": "796dabcd",
   "metadata": {},
   "source": [
    "## Measure 3: Entanglement in the Choi state"
   ]
  },
  {
   "cell_type": "markdown",
   "id": "26a428eb",
   "metadata": {},
   "source": [
    "Our goal will be to find, in this state, the mutual information between site 7 on the left and site 7 on the\n",
    "right. "
   ]
  },
  {
   "cell_type": "code",
   "execution_count": null,
   "id": "551858df",
   "metadata": {},
   "outputs": [],
   "source": [
    "def get_two_site_dm(t, e, v, left_site, right_site):\n",
    "    n = int(np.log2(len(e)))\n",
    "    \n",
    "    U = get_U(t,e,v)\n",
    "    U_dagger = np.conjugate(U.T)\n",
    "    dim = (2**n)\n",
    "    \n",
    "    def full_space_op(one_site_op, site):\n",
    "        return ps1f.kron_list([ps1f.Id]*site + [one_site_op] + [ps1f.Id]*(n-1-site))\n",
    "    \n",
    "    Z0 = full_space_op(ps1f.Sz, 0)\n",
    "    \n",
    "    # Indices correspond to (row, left site), (row, right site), (col, left site), (col, right site)\n",
    "    rho = np.zeros((2,2,2,2), dtype = complex)\n",
    "    # Loop through all elements of the matrix\n",
    "    for (i,j,k,l) in [[ (elt//(2**j)) % 2 for j in range(4) ] for elt in range(16) ]:\n",
    "        #initialise\n",
    "        P_left = np.zeros((2,2))\n",
    "        P_right = np.zeros((2,2))\n",
    "        \n",
    "        P_left[i,k] = 1\n",
    "        P_right[j,l] = 1\n",
    "        \n",
    "        Pl_full = full_space_op(P_left, left_site)\n",
    "        Pr_full = full_space_op(P_right, right_site)\n",
    "        \n",
    "        #as per Fig (9)\n",
    "        matrix = la.multi_dot([U_dagger, Z0, U, Pl_full, U_dagger, Z0, U, Pr_full.T])\n",
    "        rho[i,j,k,l] = np.trace(matrix) / dim\n",
    "        \n",
    "    # Combines the two row indices and the two column indices to composite ones, in the order (00,01,10,11)\n",
    "    rho = rho.reshape(4,4) \n",
    "        \n",
    "    return rho"
   ]
  },
  {
   "cell_type": "code",
   "execution_count": null,
   "id": "958b6e6d",
   "metadata": {},
   "outputs": [],
   "source": [
    "n_qubits = 8\n",
    "e,v = la.eigh(Hi(n_qubits))\n",
    "\n",
    "rho = get_two_site_dm(10, e, v, 2, 2)\n",
    "# print(rho)\n",
    "rho_e, rho_v = la.eigh(rho)\n",
    "\n",
    "#check for positivity\n",
    "print(\"Eigenvalues of \\u03C1 (should be positive):\",rho_e)\n",
    "#check for hermitianity. np.allclose returns True if two arrays are element-wise equal within a tolerance.\n",
    "print(\"Is \\u03C1 hermitian?: \", np.allclose(rho, np.conjugate(rho.T)))\n",
    "print(\"Tr[\\u03C1]: \", np.trace(rho))\n",
    "print(\"Is Tr[\\u03C1] = 1?\", np.allclose(np.trace(rho), 1))"
   ]
  },
  {
   "cell_type": "markdown",
   "id": "3e7d03c1",
   "metadata": {},
   "source": [
    "All the checks are successfull!"
   ]
  },
  {
   "cell_type": "markdown",
   "id": "4a057580",
   "metadata": {},
   "source": [
    "Function to compute entanglement entropy. This is given by: $S = -Tr_{\\mathcal{H}}(\\rho\\, \\log{\\rho})$. We can make this calculation simpler by considering the diagonal form of $\\rho$."
   ]
  },
  {
   "cell_type": "code",
   "execution_count": null,
   "id": "25221b90",
   "metadata": {},
   "outputs": [],
   "source": [
    "def get_S_from_rho(rho):\n",
    "    rho_e,rho_v = la.eigh(rho)\n",
    "    \n",
    "    #avoid numerical errors\n",
    "    new_e = np.abs(rho_e)\n",
    "    #handle case when some eigenvalues are 0\n",
    "    new_e = new_e[new_e != 0]\n",
    "    \n",
    "    S = - sum(new_e*np.log(new_e))\n",
    "    return S"
   ]
  },
  {
   "cell_type": "code",
   "execution_count": null,
   "id": "09f490ed",
   "metadata": {},
   "outputs": [],
   "source": [
    "def plot_Choi_I(H, t0, sys_type, t_steps = 101):\n",
    "    e,v = la.eigh(H)\n",
    "    \n",
    "    ts = np.linspace(0,t0,t_steps)\n",
    "    Is = np.zeros(ts.shape)\n",
    "    for t_idx, t in enumerate(ts):\n",
    "        rho = get_two_site_dm(t, e, v, 2, 2)\n",
    "        Is[t_idx] = 2 * get_S_from_rho(.5 * np.identity(2)) - get_S_from_rho(rho)\n",
    "    \n",
    "    title = 'Mutual information between leftmost and rightmost sites - ' + sys_type \n",
    "    plt.title(title)\n",
    "    plt.plot(ts, Is)\n",
    "    plt.xlabel(r'$t$')\n",
    "    plt.ylabel('Mutual information')\n",
    "    plt.plot()"
   ]
  },
  {
   "cell_type": "code",
   "execution_count": null,
   "id": "0628438a",
   "metadata": {},
   "outputs": [],
   "source": [
    "t0 = 40\n",
    "n_qubits = 8"
   ]
  },
  {
   "cell_type": "code",
   "execution_count": null,
   "id": "af610c64",
   "metadata": {},
   "outputs": [],
   "source": [
    "plot_Choi_I(Hi(n_qubits), t0, sys_type = 'integrable system')"
   ]
  },
  {
   "cell_type": "code",
   "execution_count": null,
   "id": "926200e1",
   "metadata": {},
   "outputs": [],
   "source": [
    "plot_Choi_I(Hs(n_qubits), t0, sys_type = 'scrambled system')"
   ]
  },
  {
   "cell_type": "markdown",
   "id": "2ba0afae",
   "metadata": {},
   "source": [
    "For the scrambled Hamiltonian the mutual information between the leftmost and rightmost states decays to zero. On the other hand, that of the integrable system stays non-zero and oscillates about a non-zero value."
   ]
  },
  {
   "cell_type": "markdown",
   "id": "475f605c",
   "metadata": {},
   "source": [
    "## Changing parameters"
   ]
  },
  {
   "cell_type": "markdown",
   "id": "9c2f650e",
   "metadata": {},
   "source": [
    "Consider now new Hamiltonians. These are defined at the top of the notebook"
   ]
  },
  {
   "cell_type": "markdown",
   "id": "4554e778",
   "metadata": {},
   "source": [
    "#### Hamiltonian 3"
   ]
  },
  {
   "cell_type": "markdown",
   "id": "c3c3592e",
   "metadata": {},
   "source": [
    "Consider a Hamiltonian that, like $H_i$, is integrable, but which is away from the Ising critical point."
   ]
  },
  {
   "cell_type": "code",
   "execution_count": null,
   "id": "fd557431",
   "metadata": {},
   "outputs": [],
   "source": [
    "n_qubits = 6\n",
    "t0=1000"
   ]
  },
  {
   "cell_type": "code",
   "execution_count": null,
   "id": "6a8c7a04",
   "metadata": {},
   "outputs": [],
   "source": [
    "plot_OTOC_vs_t(H3(n_qubits), t0, 'integrable away from criticality', t_steps = 101)"
   ]
  },
  {
   "cell_type": "markdown",
   "id": "94db3ec5",
   "metadata": {},
   "source": [
    "Similar behaviour to integrable system at critical point, but lower frequency of oscillation of OTOC."
   ]
  },
  {
   "cell_type": "code",
   "execution_count": null,
   "id": "0acea743",
   "metadata": {},
   "outputs": [],
   "source": [
    "plot_Z0_weight_vs_t(H3(n_qubits), t0, 'integrable away from criticality', t_steps = 100)"
   ]
  },
  {
   "cell_type": "code",
   "execution_count": null,
   "id": "ac0e2483",
   "metadata": {},
   "outputs": [],
   "source": [
    "plot_Choi_I(H3(n_qubits), t0, 'integrable away from criticality')"
   ]
  },
  {
   "cell_type": "markdown",
   "id": "67e61b56",
   "metadata": {},
   "source": [
    "#### Hamiltonian 4"
   ]
  },
  {
   "cell_type": "markdown",
   "id": "3bcd8177",
   "metadata": {},
   "source": [
    "Now try a model with both longitudinal and transverse fields, but with $h = J$."
   ]
  },
  {
   "cell_type": "code",
   "execution_count": null,
   "id": "c2d23cbe",
   "metadata": {},
   "outputs": [],
   "source": [
    "plot_OTOC_vs_t(H4(n_qubits), t0, 'logitudinal and tranverse fields', t_steps = 101)"
   ]
  },
  {
   "cell_type": "code",
   "execution_count": null,
   "id": "9292d529",
   "metadata": {},
   "outputs": [],
   "source": [
    "plot_Z0_weight_vs_t(H4(n_qubits), t0, 'logitudinal and tranverse fields', t_steps = 100)"
   ]
  },
  {
   "cell_type": "code",
   "execution_count": null,
   "id": "4889f77f",
   "metadata": {},
   "outputs": [],
   "source": [
    "plot_Choi_I(H4(n_qubits), t0, 'logitudinal and tranverse fields')"
   ]
  }
 ],
 "metadata": {
  "kernelspec": {
   "display_name": "Python 3 (ipykernel)",
   "language": "python",
   "name": "python3"
  },
  "language_info": {
   "codemirror_mode": {
    "name": "ipython",
    "version": 3
   },
   "file_extension": ".py",
   "mimetype": "text/x-python",
   "name": "python",
   "nbconvert_exporter": "python",
   "pygments_lexer": "ipython3",
   "version": "3.9.7"
  }
 },
 "nbformat": 4,
 "nbformat_minor": 5
}
