{
 "cells": [
  {
   "cell_type": "code",
   "execution_count": null,
   "id": "565ae0f5",
   "metadata": {},
   "outputs": [],
   "source": [
    "import numpy as np\n",
    "import matplotlib.pyplot as plt\n",
    "import functions as ps1f\n",
    "\n",
    "Hi = -ps1f.ZZ(8) - ps1f.X(8)\n",
    "Hs = -ps1f.ZZ(8) + 1.05*ps1f.X(8) - 0.5*ps1f.Z(8)"
   ]
  },
  {
   "cell_type": "markdown",
   "id": "63359c4b",
   "metadata": {},
   "source": [
    "# Problem 1"
   ]
  },
  {
   "cell_type": "code",
   "execution_count": null,
   "id": "9451c898",
   "metadata": {},
   "outputs": [],
   "source": [
    "def get_U(t, e, v):\n",
    "    \"\"\"\n",
    "    Inputs: t, time to evolve\n",
    "            e, a 1d array containing eigenvalues of H\n",
    "            v, a matrix whose columns are the corresponding eigenvectors\n",
    "    Output: exp(-i H t)\n",
    "    \"\"\"\n",
    "    U = #TODO\n",
    "    return U"
   ]
  },
  {
   "cell_type": "code",
   "execution_count": null,
   "id": "387d6046",
   "metadata": {},
   "outputs": [],
   "source": [
    "def OTOC(t, e, v, site2, site1=0, op = ps1f.Sz):\n",
    "    \"\"\"\n",
    "    Input: evolution time t, eigenpairs (e,v) of H, \n",
    "        two lattice sites, and a single-qubit operator\n",
    "    Output: the OTOC\n",
    "     < op(t)_site1 @ op(0)_site2 @ op(t)_site1 @ op(0)_site2 >\n",
    "    \"\"\"\n",
    "    n = int(np.log2(len(e)))\n",
    "\n",
    "    U = get_U(t,e,v)\n",
    "    \n",
    "    site1_oplist = [ps1f.Id]*site1 + [op] + [ps1f.Id]*(n-site1-1)\n",
    "    site1_op = ps1f.kron_list(site1_oplist)\n",
    "    site2_oplist = [ps1f.Id]*site2 + [op] + [ps1f.Id]*(n-site2-1)\n",
    "    site2_op = ps1f.kron_list(site2_oplist)\n",
    "    \n",
    "    #TODO\n",
    "    OTOC = #TODO\n",
    "    \n",
    "    return OTOC"
   ]
  },
  {
   "cell_type": "code",
   "execution_count": null,
   "id": "416b19de",
   "metadata": {},
   "outputs": [],
   "source": [
    "def plot_OTOC_vs_t(H, t0, t_steps = 101):\n",
    "    n = int(np.log2(H.shape[0]))\n",
    "    \n",
    "    e,v = np.linalg.eigh(H)\n",
    "    \n",
    "    ts = np.linspace(0,t0,t_steps)\n",
    "    OTOCs = np.zeros( (n, len(ts)), dtype = complex )\n",
    "    for i in range(n):\n",
    "        for t_idx, t in enumerate(ts):\n",
    "            OTOCs[i, t_idx] = #TODO\n",
    "    OTOCs = np.real_if_close(OTOCs)\n",
    "        \n",
    "    f,a = plt.subplots()\n",
    "    for i in range(n):\n",
    "        a.plot(ts, OTOCs[i], label=str(i))\n",
    "    a.set_xlabel('t')\n",
    "    a.set_ylabel('OTOC')\n",
    "    a.legend(loc=1)\n",
    "    \n",
    "    return f"
   ]
  },
  {
   "cell_type": "code",
   "execution_count": null,
   "id": "b9b709aa",
   "metadata": {},
   "outputs": [],
   "source": [
    "t0 = #TODO\n",
    "t_steps = #TODO\n",
    "\n",
    "plot_OTOC_vs_t(Hi, t0, t_steps = t_steps);\n",
    "plot_OTOC_vs_t(Hs, t0, t_steps = t_steps);"
   ]
  },
  {
   "cell_type": "markdown",
   "id": "3a567941",
   "metadata": {},
   "source": [
    "# Problem 2"
   ]
  },
  {
   "cell_type": "code",
   "execution_count": null,
   "id": "bb0e4da9",
   "metadata": {},
   "outputs": [],
   "source": [
    "def Z0_weight_vs_t_v1(t, e, v):\n",
    "    n = int(np.log2(len(e)))\n",
    "\n",
    "    U = get_U(t,e,v)\n",
    "    Z0 = ps1f.kron_list( [ps1f.Sz] + [ps1f.Id]*(n-1) )\n",
    "    Z0t = # TODO\n",
    "    \n",
    "    one_site_Pauli_ops = [ps1f.Id, ps1f.Sz, ps1f.Sx, ps1f.Sy]\n",
    "    operator_inds = [ [ (elt//(4**j)) % 4 for j in range(n) ][::-1] for elt in range(4**n) ]\n",
    "    Pauli_ops = [ [one_site_Pauli_ops[ind] for ind in inds] for inds in operator_inds ]\n",
    "    \n",
    "    weights = #TODO\n",
    "    \n",
    "    coeffs = #TODO\n",
    "    \n",
    "    weight = #TODO\n",
    "    \n",
    "    return weight"
   ]
  },
  {
   "cell_type": "code",
   "execution_count": null,
   "id": "14ce66f2",
   "metadata": {},
   "outputs": [],
   "source": [
    "def Z0_weight_vs_t_v2(t, e, v):\n",
    "    n = int(np.log2(len(e)))\n",
    "\n",
    "    U = get_U(t,e,v)\n",
    "    Z0 = ps1f.kron_list( [ps1f.Sz] + [ps1f.Id]*(n-1) )\n",
    "    Z0t = #TODO\n",
    "    \n",
    "    one_site_Pauli_ops = [ps1f.Id, ps1f.Sz, ps1f.Sx, ps1f.Sy]\n",
    "    \n",
    "    #TODO: one site at a time to save computation\n",
    "    \n",
    "    return weight"
   ]
  },
  {
   "cell_type": "code",
   "execution_count": null,
   "id": "32362439",
   "metadata": {},
   "outputs": [],
   "source": [
    "def plot_Z0_weight_vs_t(H, t0, t_steps = 101):\n",
    "    \n",
    "    e,v = np.linalg.eigh(H)\n",
    "    \n",
    "    ts = np.linspace(0,t0,t_steps)\n",
    "    Z0_weights = np.zeros(ts.shape)\n",
    "    for t_idx, t in enumerate(ts):\n",
    "        Z0_weights[t_idx] = #TODO\n",
    "        \n",
    "    f,a = plt.subplots()\n",
    "    a.plot(ts, Z0_weights)\n",
    "    a.set_xlabel('t')\n",
    "    a.set_ylabel('$Z_0(t)$ weight')\n",
    "    \n",
    "    return f"
   ]
  },
  {
   "cell_type": "code",
   "execution_count": null,
   "id": "4cff736d",
   "metadata": {},
   "outputs": [],
   "source": [
    "#TODO: Make plots here\n",
    "# (If using method 1, probably reduce the system size)"
   ]
  },
  {
   "cell_type": "markdown",
   "id": "875f9f02",
   "metadata": {},
   "source": [
    "A case where $t_0$ is too large for the system size:"
   ]
  },
  {
   "cell_type": "markdown",
   "id": "796dabcd",
   "metadata": {},
   "source": [
    "# Problem 3"
   ]
  },
  {
   "cell_type": "code",
   "execution_count": null,
   "id": "551858df",
   "metadata": {},
   "outputs": [],
   "source": [
    "def get_two_site_dm(t, e, v, left_site, right_site):\n",
    "    n = int(np.log2(len(e)))\n",
    "    \n",
    "    U = get_U(t,e,v)\n",
    "    \n",
    "    def full_space_op(one_site_op, site):\n",
    "        return ps1f.kron_list([ps1f.Id]*site + [one_site_op] + [ps1f.Id]*(n-1-site))\n",
    "    \n",
    "    Z0 = full_space_op(ps1f.Sz, 0)\n",
    "    \n",
    "    # Indices correspond to (row, left site), (row, right site), (col, left site), (col, right site)\n",
    "    rho = np.zeros((2,2,2,2), dtype = complex)\n",
    "    # Loop through all elements of the matrix\n",
    "    for (i,j,k,l) in [[ (elt//(2**j)) % 2 for j in range(4) ] for elt in range(16) ]:\n",
    "        P_left = #TODO\n",
    "        P_right = #TODO\n",
    "        \n",
    "        Pl_full = full_space_op(P_left, left_site)\n",
    "        Pr_full = full_space_op(P_right, right_site)\n",
    "        \n",
    "        matrix = #TODO\n",
    "        rho[i,j,k,l] = #TODO\n",
    "        \n",
    "    # Combines the two row indices and the two column indices to composite ones, in the order (00,01,10,11)\n",
    "    rho = rho.reshape(4,4) \n",
    "        \n",
    "    return rho"
   ]
  },
  {
   "cell_type": "code",
   "execution_count": null,
   "id": "958b6e6d",
   "metadata": {},
   "outputs": [],
   "source": [
    "#TODO: space for testing that you get valid density matrices"
   ]
  },
  {
   "cell_type": "code",
   "execution_count": null,
   "id": "25221b90",
   "metadata": {},
   "outputs": [],
   "source": [
    "def get_S_from_rho(rho):\n",
    "    #TODO\n",
    "    return S"
   ]
  },
  {
   "cell_type": "code",
   "execution_count": null,
   "id": "09f490ed",
   "metadata": {},
   "outputs": [],
   "source": [
    "def plot_Choi_I(H, t0, t_steps = 101):\n",
    "    e,v = np.linalg.eigh(H)\n",
    "    \n",
    "    ts = np.linspace(0,t0,t_steps)\n",
    "    Is = np.zeros(ts.shape)\n",
    "    for t_idx, t in enumerate(ts):\n",
    "        #TODO\n",
    "        Is[t_idx] = #TODO\n",
    "        \n",
    "    f,a = plt.subplots()\n",
    "    a.plot(ts, Is)\n",
    "    a.set_xlabel('t')\n",
    "    a.set_ylabel('Mutual information')\n",
    "    \n",
    "    return f"
   ]
  },
  {
   "cell_type": "code",
   "execution_count": null,
   "id": "0628438a",
   "metadata": {},
   "outputs": [],
   "source": [
    "#TODO: Make plots here"
   ]
  },
  {
   "cell_type": "markdown",
   "id": "475f605c",
   "metadata": {},
   "source": [
    "# Problem 4"
   ]
  },
  {
   "cell_type": "code",
   "execution_count": null,
   "id": "fd557431",
   "metadata": {},
   "outputs": [],
   "source": [
    "#TODO: Problem 4"
   ]
  }
 ],
 "metadata": {
  "kernelspec": {
   "display_name": "Python 3 (ipykernel)",
   "language": "python",
   "name": "python3"
  },
  "language_info": {
   "codemirror_mode": {
    "name": "ipython",
    "version": 3
   },
   "file_extension": ".py",
   "mimetype": "text/x-python",
   "name": "python",
   "nbconvert_exporter": "python",
   "pygments_lexer": "ipython3",
   "version": "3.9.7"
  }
 },
 "nbformat": 4,
 "nbformat_minor": 5
}
